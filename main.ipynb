{
 "cells": [
  {
   "cell_type": "code",
   "execution_count": 6,
   "metadata": {},
   "outputs": [],
   "source": [
    "from typing import Annotated, TypedDict\n",
    "from langgraph.graph import StateGraph, START, END\n",
    "from langgraph.graph.message import add_messages\n",
    "from langchain_ollama import ChatOllama\n",
    "\n",
    "base_url=\"http://localhost:11434\"\n",
    "model=\"llama3.2\"\n",
    "\n",
    "llm = ChatOllama(\n",
    "    base_url = base_url,\n",
    "    model = model,\n",
    ")\n",
    "\n"
   ]
  },
  {
   "cell_type": "code",
   "execution_count": 7,
   "metadata": {},
   "outputs": [],
   "source": [
    "from langchain_core.prompts import ChatPromptTemplate\n",
    "from langchain_core.output_parsers import StrOutputParser\n",
    "\n",
    "user_prompt = \"\"\" Given the user review below, classify the sentiment of the review as positive, negative.\n",
    "                  Do not consider the sentiment of the user review as neutral.\n",
    "                  Do not respond with more than one word.\n",
    "                  Review: {review}\"\"\"\n",
    "\n",
    "user_prompt_template = ChatPromptTemplate.from_template(user_prompt)\n",
    "\n",
    "chain_user_prompt = user_prompt_template | llm | StrOutputParser()"
   ]
  },
  {
   "cell_type": "code",
   "execution_count": 8,
   "metadata": {},
   "outputs": [
    {
     "data": {
      "text/plain": [
       "\"I'm ready when you are. Please go ahead and provide the review.\""
      ]
     },
     "execution_count": 8,
     "metadata": {},
     "output_type": "execute_result"
    }
   ],
   "source": [
    "review = input(\"Please enter your review: \")\n",
    "chain_user_prompt.invoke(review)"
   ]
  },
  {
   "cell_type": "code",
   "execution_count": 4,
   "metadata": {},
   "outputs": [],
   "source": [
    "if_postive_review = \"\"\" You are an expert in writing replies for positive reviews. \n",
    "                        You also need to encourage the user to leave a review on the platform or on social media.\n",
    "                        The user review is: {review}\"\"\"\n",
    "\n",
    "if_postive_review_template = ChatPromptTemplate.from_template(if_postive_review)\n",
    "if_postive_review_chain = if_postive_review_template | llm | StrOutputParser()"
   ]
  },
  {
   "cell_type": "code",
   "execution_count": 5,
   "metadata": {},
   "outputs": [],
   "source": [
    "if_negative_review = \"\"\" You are an expert in writing replies for negative reviews.\n",
    "                         You need to fisrt apologize for the user's bad experience and then offer a solution according to the user review.\n",
    "                        You also need to encourage the user to share their concern on the following email: 'khanarham0029@gmail.com'.\n",
    "                        The user review is: {review}\"\"\"\n",
    "\n",
    "if_negative_review_template = ChatPromptTemplate.from_template(if_negative_review)\n",
    "if_negative_review_chain = if_negative_review_template | llm | StrOutputParser()\n"
   ]
  },
  {
   "cell_type": "code",
   "execution_count": 9,
   "metadata": {},
   "outputs": [],
   "source": [
    "def route(info):\n",
    "    if 'positive' in info['sentiment'].lower():\n",
    "        return if_postive_review_chain\n",
    "    else:\n",
    "        return if_negative_review_chain"
   ]
  },
  {
   "cell_type": "code",
   "execution_count": 11,
   "metadata": {},
   "outputs": [
    {
     "data": {
      "text/plain": [
       "{\n",
       "  sentiment: ChatPromptTemplate(input_variables=['review'], input_types={}, partial_variables={}, messages=[HumanMessagePromptTemplate(prompt=PromptTemplate(input_variables=['review'], input_types={}, partial_variables={}, template=' Given the user review below, classify the sentiment of the review as positive, negative.\\n                  Do not consider the sentiment of the user review as neutral.\\n                  Do not respond with more than one word.\\n                  Review: {review}'), additional_kwargs={})])\n",
       "             | ChatOllama(model='llama3.2', base_url='http://localhost:11434')\n",
       "             | StrOutputParser(),\n",
       "  review: RunnableLambda(lambda x: x['review'])\n",
       "}\n",
       "| RunnableLambda(route)"
      ]
     },
     "execution_count": 11,
     "metadata": {},
     "output_type": "execute_result"
    }
   ],
   "source": [
    "from langchain_core.runnables import RunnableLambda\n",
    "\n",
    "full_chain = {'sentiment':chain_user_prompt, 'review' : lambda x:x['review']}  | RunnableLambda(route)\n",
    "full_chain"
   ]
  },
  {
   "cell_type": "code",
   "execution_count": 13,
   "metadata": {},
   "outputs": [
    {
     "name": "stdout",
     "output_type": "stream",
     "text": [
      "Wow, thank you so much for taking the time to share your thoughts about our product! We're thrilled to hear that you were initially skeptical but ended up being pleasantly surprised by its unique charm.\n",
      "\n",
      "We appreciate your honesty about our design and functionality, which may not be everyone's cup of tea. However, we're glad to hear that it meets its claims most of the time, and that the battery life has a certain \"charm\" to it – who needs reliability when you can have excitement, right?\n",
      "\n",
      "Regarding the software, we acknowledge that it has some quirks, but we're working hard to iron out those issues. We appreciate your patience and willingness to give us feedback.\n",
      "\n",
      "We love that you've decided to recommend our product to those who enjoy a bit of unpredictability in their life! It's definitely not for everyone, but for those who are adventurous and open to trying new things, it can be a game-changer.\n",
      "\n",
      "If you're considering purchasing or have already purchased our product, we'd love to hear more about your experience on social media using #OurProductName. Your feedback will help us create an even better experience for future customers.\n",
      "\n",
      "And to encourage others to share their own experiences, if you've had the chance to try our product, please take a moment to leave a review on our platform or on social media. Your voice matters, and we want to hear about it!\n",
      "\n",
      "Thank you again for your thoughtful review – keep an eye out for updates and new features coming soon!\n"
     ]
    }
   ],
   "source": [
    "review = input(\"Please enter your review: \")\n",
    "output=full_chain.invoke({'review':review})\n",
    "print(output)"
   ]
  }
 ],
 "metadata": {
  "kernelspec": {
   "display_name": "Python (mll)",
   "language": "python",
   "name": "mll"
  },
  "language_info": {
   "codemirror_mode": {
    "name": "ipython",
    "version": 3
   },
   "file_extension": ".py",
   "mimetype": "text/x-python",
   "name": "python",
   "nbconvert_exporter": "python",
   "pygments_lexer": "ipython3",
   "version": "3.12.4"
  }
 },
 "nbformat": 4,
 "nbformat_minor": 2
}
