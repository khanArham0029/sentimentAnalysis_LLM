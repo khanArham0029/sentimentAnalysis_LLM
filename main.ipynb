{
 "cells": [
  {
   "cell_type": "code",
   "execution_count": 1,
   "metadata": {},
   "outputs": [],
   "source": [
    "from typing import Annotated, TypedDict\n",
    "from langgraph.graph import StateGraph, START, END\n",
    "from langgraph.graph.message import add_messages\n",
    "from langchain_ollama import ChatOllama\n",
    "\n",
    "base_url=\"http://localhost:11434\"\n",
    "model=\"llama3.2\"\n",
    "\n",
    "llm = ChatOllama(\n",
    "    base_url = base_url,\n",
    "    model = model,\n",
    ")\n",
    "\n"
   ]
  },
  {
   "cell_type": "code",
   "execution_count": 2,
   "metadata": {},
   "outputs": [],
   "source": [
    "from langchain_core.prompts import ChatPromptTemplate\n",
    "from langchain_core.output_parsers import StrOutputParser\n",
    "\n",
    "user_prompt = \"\"\" Given the user review below, classify the sentiment of the review as positive, negative.\n",
    "                  Do not consider the sentiment of the user review as neutral.\n",
    "                  Do not respond with more than one word.\n",
    "                  Review: {review}\"\"\"\n",
    "\n",
    "user_prompt_template = ChatPromptTemplate.from_template(user_prompt)\n",
    "\n",
    "chain_user_prompt = user_prompt_template | llm | StrOutputParser()"
   ]
  },
  {
   "cell_type": "code",
   "execution_count": 3,
   "metadata": {},
   "outputs": [
    {
     "data": {
      "text/plain": [
       "'Negative.'"
      ]
     },
     "execution_count": 3,
     "metadata": {},
     "output_type": "execute_result"
    }
   ],
   "source": [
    "review = input(\"Please enter your review: \")\n",
    "chain_user_prompt.invoke(review)"
   ]
  },
  {
   "cell_type": "code",
   "execution_count": 4,
   "metadata": {},
   "outputs": [],
   "source": [
    "if_postive_review = \"\"\" You are an expert in writing replies for positive reviews. \n",
    "                        You also need to encourage the user to leave a review on the platform or on social media.\n",
    "                        The user review is: {review}\"\"\"\n",
    "\n",
    "if_postive_review_template = ChatPromptTemplate.from_template(if_postive_review)\n",
    "if_postive_review_chain = if_postive_review_template | llm | StrOutputParser()"
   ]
  },
  {
   "cell_type": "code",
   "execution_count": 5,
   "metadata": {},
   "outputs": [],
   "source": [
    "if_negative_review = \"\"\" You are an expert in writing replies for negative reviews.\n",
    "                         You need to fisrt apologize for the user's bad experience and then offer a solution according to the user review.\n",
    "                        You also need to encourage the user to share their concern on the following email: 'khanarham0029@gmail.com'.\n",
    "                        The user review is: {review}\"\"\"\n",
    "\n",
    "if_negative_review_template = ChatPromptTemplate.from_template(if_negative_review)\n",
    "if_negative_review_chain = if_negative_review_template | llm | StrOutputParser()\n"
   ]
  }
 ],
 "metadata": {
  "kernelspec": {
   "display_name": "Python (mll)",
   "language": "python",
   "name": "mll"
  },
  "language_info": {
   "codemirror_mode": {
    "name": "ipython",
    "version": 3
   },
   "file_extension": ".py",
   "mimetype": "text/x-python",
   "name": "python",
   "nbconvert_exporter": "python",
   "pygments_lexer": "ipython3",
   "version": "3.12.4"
  }
 },
 "nbformat": 4,
 "nbformat_minor": 2
}
